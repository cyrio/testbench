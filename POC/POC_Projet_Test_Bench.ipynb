{
 "cells": [
  {
   "cell_type": "markdown",
   "metadata": {},
   "source": [
    "# Concaténation des fichiers Result et TimeSeries"
   ]
  },
  {
   "cell_type": "code",
   "execution_count": 1,
   "metadata": {},
   "outputs": [],
   "source": [
    "import pandas as pd\n",
    "import seaborn as sns"
   ]
  },
  {
   "cell_type": "code",
   "execution_count": 2,
   "metadata": {},
   "outputs": [],
   "source": [
    "df_result= pd.read_csv('/home/fitec/Mise en situation professionnelle/Projets FITEC/Test Bench/Results/Results_201210.csv', sep =';')"
   ]
  },
  {
   "cell_type": "code",
   "execution_count": 3,
   "metadata": {},
   "outputs": [
    {
     "data": {
      "text/html": [
       "<div>\n",
       "<style scoped>\n",
       "    .dataframe tbody tr th:only-of-type {\n",
       "        vertical-align: middle;\n",
       "    }\n",
       "\n",
       "    .dataframe tbody tr th {\n",
       "        vertical-align: top;\n",
       "    }\n",
       "\n",
       "    .dataframe thead th {\n",
       "        text-align: right;\n",
       "    }\n",
       "</style>\n",
       "<table border=\"1\" class=\"dataframe\">\n",
       "  <thead>\n",
       "    <tr style=\"text-align: right;\">\n",
       "      <th></th>\n",
       "      <th>TEST_STAND</th>\n",
       "      <th>DATE</th>\n",
       "      <th>HEURE</th>\n",
       "      <th>SERIAL_NUMBER</th>\n",
       "      <th>PRODUCT_NUMBER</th>\n",
       "      <th>RESULT</th>\n",
       "      <th>ALIM_1</th>\n",
       "      <th>ALIM_2</th>\n",
       "      <th>DIRECTION</th>\n",
       "    </tr>\n",
       "  </thead>\n",
       "  <tbody>\n",
       "    <tr>\n",
       "      <th>0</th>\n",
       "      <td>V01</td>\n",
       "      <td>28/09/2012</td>\n",
       "      <td>15:27:56</td>\n",
       "      <td>18806057d7990acb57b45b9e158dabb8</td>\n",
       "      <td>c4d2187fa110c66f771d6e3bfd20bd4a</td>\n",
       "      <td>G</td>\n",
       "      <td>1.764</td>\n",
       "      <td>0.528</td>\n",
       "      <td>L</td>\n",
       "    </tr>\n",
       "    <tr>\n",
       "      <th>1</th>\n",
       "      <td>V01</td>\n",
       "      <td>28/09/2012</td>\n",
       "      <td>15:41:12</td>\n",
       "      <td>fa3a3083f601fa224184a0294bc66fd2</td>\n",
       "      <td>c4d2187fa110c66f771d6e3bfd20bd4a</td>\n",
       "      <td>G</td>\n",
       "      <td>1.561</td>\n",
       "      <td>0.792</td>\n",
       "      <td>L</td>\n",
       "    </tr>\n",
       "    <tr>\n",
       "      <th>2</th>\n",
       "      <td>V01</td>\n",
       "      <td>28/09/2012</td>\n",
       "      <td>16:09:07</td>\n",
       "      <td>5375e20cc745c699d5b0451df7670f52</td>\n",
       "      <td>e0d25f75f0f54846e0d5929ed4b46aac</td>\n",
       "      <td>G</td>\n",
       "      <td>0.161</td>\n",
       "      <td>0.069</td>\n",
       "      <td>L</td>\n",
       "    </tr>\n",
       "    <tr>\n",
       "      <th>3</th>\n",
       "      <td>V01</td>\n",
       "      <td>28/09/2012</td>\n",
       "      <td>16:21:02</td>\n",
       "      <td>5830d17cc99259cd9afc27fbaf948f28</td>\n",
       "      <td>e0d25f75f0f54846e0d5929ed4b46aac</td>\n",
       "      <td>G</td>\n",
       "      <td>0.042</td>\n",
       "      <td>0.054</td>\n",
       "      <td>L</td>\n",
       "    </tr>\n",
       "    <tr>\n",
       "      <th>4</th>\n",
       "      <td>V01</td>\n",
       "      <td>28/09/2012</td>\n",
       "      <td>16:33:41</td>\n",
       "      <td>32943b5ea010c1c5a0d59af9b1c84ed0</td>\n",
       "      <td>e0d25f75f0f54846e0d5929ed4b46aac</td>\n",
       "      <td>G</td>\n",
       "      <td>0.203</td>\n",
       "      <td>0.069</td>\n",
       "      <td>L</td>\n",
       "    </tr>\n",
       "    <tr>\n",
       "      <th>5</th>\n",
       "      <td>V01</td>\n",
       "      <td>28/09/2012</td>\n",
       "      <td>16:41:26</td>\n",
       "      <td>896ec90e82ee90de9342d311dbf55cb3</td>\n",
       "      <td>e0d25f75f0f54846e0d5929ed4b46aac</td>\n",
       "      <td>G</td>\n",
       "      <td>0.042</td>\n",
       "      <td>0.054</td>\n",
       "      <td>L</td>\n",
       "    </tr>\n",
       "    <tr>\n",
       "      <th>6</th>\n",
       "      <td>V01</td>\n",
       "      <td>28/09/2012</td>\n",
       "      <td>17:01:51</td>\n",
       "      <td>6708c44794869fecc841594d0baa8046</td>\n",
       "      <td>e0d25f75f0f54846e0d5929ed4b46aac</td>\n",
       "      <td>W</td>\n",
       "      <td>1.561</td>\n",
       "      <td>0.651</td>\n",
       "      <td>L</td>\n",
       "    </tr>\n",
       "    <tr>\n",
       "      <th>7</th>\n",
       "      <td>V01</td>\n",
       "      <td>28/09/2012</td>\n",
       "      <td>17:06:47</td>\n",
       "      <td>6708c44794869fecc841594d0baa8046</td>\n",
       "      <td>e0d25f75f0f54846e0d5929ed4b46aac</td>\n",
       "      <td>W</td>\n",
       "      <td>1.729</td>\n",
       "      <td>0.756</td>\n",
       "      <td>L</td>\n",
       "    </tr>\n",
       "    <tr>\n",
       "      <th>8</th>\n",
       "      <td>V01</td>\n",
       "      <td>28/09/2012</td>\n",
       "      <td>17:18:35</td>\n",
       "      <td>f2be0b9cf7a9c9cedceccca75d9be83d</td>\n",
       "      <td>e0d25f75f0f54846e0d5929ed4b46aac</td>\n",
       "      <td>G</td>\n",
       "      <td>0.000</td>\n",
       "      <td>0.069</td>\n",
       "      <td>L</td>\n",
       "    </tr>\n",
       "    <tr>\n",
       "      <th>9</th>\n",
       "      <td>V01</td>\n",
       "      <td>28/09/2012</td>\n",
       "      <td>17:26:36</td>\n",
       "      <td>df192f9e71c839dbcde4262811ec25d8</td>\n",
       "      <td>b2da7b0ac8fae13ede591d37e1d2523c</td>\n",
       "      <td>G</td>\n",
       "      <td>0.042</td>\n",
       "      <td>0.087</td>\n",
       "      <td>L</td>\n",
       "    </tr>\n",
       "  </tbody>\n",
       "</table>\n",
       "</div>"
      ],
      "text/plain": [
       "  TEST_STAND        DATE     HEURE                     SERIAL_NUMBER  \\\n",
       "0        V01  28/09/2012  15:27:56  18806057d7990acb57b45b9e158dabb8   \n",
       "1        V01  28/09/2012  15:41:12  fa3a3083f601fa224184a0294bc66fd2   \n",
       "2        V01  28/09/2012  16:09:07  5375e20cc745c699d5b0451df7670f52   \n",
       "3        V01  28/09/2012  16:21:02  5830d17cc99259cd9afc27fbaf948f28   \n",
       "4        V01  28/09/2012  16:33:41  32943b5ea010c1c5a0d59af9b1c84ed0   \n",
       "5        V01  28/09/2012  16:41:26  896ec90e82ee90de9342d311dbf55cb3   \n",
       "6        V01  28/09/2012  17:01:51  6708c44794869fecc841594d0baa8046   \n",
       "7        V01  28/09/2012  17:06:47  6708c44794869fecc841594d0baa8046   \n",
       "8        V01  28/09/2012  17:18:35  f2be0b9cf7a9c9cedceccca75d9be83d   \n",
       "9        V01  28/09/2012  17:26:36  df192f9e71c839dbcde4262811ec25d8   \n",
       "\n",
       "                     PRODUCT_NUMBER RESULT  ALIM_1  ALIM_2 DIRECTION  \n",
       "0  c4d2187fa110c66f771d6e3bfd20bd4a      G   1.764   0.528         L  \n",
       "1  c4d2187fa110c66f771d6e3bfd20bd4a      G   1.561   0.792         L  \n",
       "2  e0d25f75f0f54846e0d5929ed4b46aac      G   0.161   0.069         L  \n",
       "3  e0d25f75f0f54846e0d5929ed4b46aac      G   0.042   0.054         L  \n",
       "4  e0d25f75f0f54846e0d5929ed4b46aac      G   0.203   0.069         L  \n",
       "5  e0d25f75f0f54846e0d5929ed4b46aac      G   0.042   0.054         L  \n",
       "6  e0d25f75f0f54846e0d5929ed4b46aac      W   1.561   0.651         L  \n",
       "7  e0d25f75f0f54846e0d5929ed4b46aac      W   1.729   0.756         L  \n",
       "8  e0d25f75f0f54846e0d5929ed4b46aac      G   0.000   0.069         L  \n",
       "9  b2da7b0ac8fae13ede591d37e1d2523c      G   0.042   0.087         L  "
      ]
     },
     "execution_count": 3,
     "metadata": {},
     "output_type": "execute_result"
    }
   ],
   "source": [
    "df_result[:10]"
   ]
  },
  {
   "cell_type": "code",
   "execution_count": 4,
   "metadata": {},
   "outputs": [
    {
     "name": "stderr",
     "output_type": "stream",
     "text": [
      "/home/fitec/anaconda3/lib/python3.9/site-packages/seaborn/_decorators.py:36: FutureWarning: Pass the following variable as a keyword arg: x. From version 0.12, the only valid positional argument will be `data`, and passing other arguments without an explicit keyword will result in an error or misinterpretation.\n",
      "  warnings.warn(\n"
     ]
    },
    {
     "data": {
      "text/plain": [
       "<AxesSubplot:xlabel='RESULT', ylabel='count'>"
      ]
     },
     "execution_count": 4,
     "metadata": {},
     "output_type": "execute_result"
    },
    {
     "data": {
      "image/png": "[encoded data removed]",
      "text/plain": [
       "<Figure size 432x288 with 1 Axes>"
      ]
     },
     "metadata": {
      "needs_background": "light"
     },
     "output_type": "display_data"
    }
   ],
   "source": [
    "sns.countplot(df_result['RESULT'])"
   ]
  },
  {
   "cell_type": "code",
   "execution_count": 5,
   "metadata": {},
   "outputs": [],
   "source": [
    "from glob import glob\n",
    "\n",
    "# csvs will contain all CSV files names ends with .csv in a list\n",
    "csvs = glob('/home/fitec/Mise en situation professionnelle/Projets FITEC/Test Bench/TimeSeries/*.csv')\n",
    "\n",
    "# remove the trailing .csv from CSV files names\n",
    "#new_table_list = [csv[78:-4] for csv in csvs]\n",
    "csv_path_list = [csv for csv in csvs]\n",
    "filename_list = [string.split('_')[-1] for string in csv_path_list]\n",
    "new_table_list = [string.split('.')[0] for string in filename_list]"
   ]
  },
  {
   "cell_type": "code",
   "execution_count": 6,
   "metadata": {},
   "outputs": [
    {
     "data": {
      "text/plain": [
       "['6926d775e6fcbed5aeaa531efa12dfbe',\n",
       " 'b4b3f8326e432d20bb621884f8e6aa20',\n",
       " '8816d1df936d5c40ca4179fa5f0ad99f',\n",
       " '52ecf1e7c8aaa541ba76dd4a1372a6a1',\n",
       " 'f681b56ed35d6760937d87dcab59c0a2',\n",
       " 'fb1df4bd01e18a909a7f7c312d44b1ef',\n",
       " 'a37f1abeb6c47e469301d4f04a00787f',\n",
       " '6ce918f3c9a6c118c816218ffbf9ee45',\n",
       " 'f4c52f8293ffbfb8bec79f4cf2b433f2',\n",
       " 'cdb6e01847fde428721737cb6c990155']"
      ]
     },
     "execution_count": 6,
     "metadata": {},
     "output_type": "execute_result"
    }
   ],
   "source": [
    "new_table_list[:10]"
   ]
  },
  {
   "cell_type": "code",
   "execution_count": 7,
   "metadata": {},
   "outputs": [
    {
     "data": {
      "text/plain": [
       "1350"
      ]
     },
     "execution_count": 7,
     "metadata": {},
     "output_type": "execute_result"
    }
   ],
   "source": [
    "len(new_table_list)"
   ]
  },
  {
   "cell_type": "code",
   "execution_count": 8,
   "metadata": {
    "scrolled": true
   },
   "outputs": [],
   "source": [
    "import pandas as pd\n",
    "TimeSeries_csv = pd.read_csv(csv_path_list[0], sep=';')\n",
    "#TimeSeries_csv"
   ]
  },
  {
   "cell_type": "code",
   "execution_count": 9,
   "metadata": {},
   "outputs": [],
   "source": [
    "def get_values(dictionnary , serial_number, TimeSeries_file):\n",
    "    dictionnary['SERIAL_NUMBER'].append(serial_number)\n",
    "    dictionnary['SENSOR_1'].append(TimeSeries_file['SENSOR_1'].max())\n",
    "    dictionnary['SENSOR_2'].append(TimeSeries_file['SENSOR_2'].max())\n",
    "    dictionnary['SENSOR_3'].append(TimeSeries_file['SENSOR_3'].mean())\n",
    "    dictionnary['SENSOR_4'].append(TimeSeries_file['SENSOR_4'].mean())\n",
    "    dictionnary['SENSOR_5'].append(TimeSeries_file['SENSOR_5'].mean())\n",
    "    dictionnary['PR_1'].append(TimeSeries_file['PR_1'].mean())\n",
    "    dictionnary['PR_2'].append(TimeSeries_file['PR_2'].mean())\n",
    "    dictionnary['PR_3'].append(TimeSeries_file['PR_3'].max())\n",
    "    dictionnary['PR_4'].append(TimeSeries_file['PR_4'].max())\n",
    "    dictionnary['TEMP_1'].append(TimeSeries_file['TEMP_1'].mean())\n",
    "    dictionnary['TEMP_2'].append(TimeSeries_file['TEMP_2'].mean())\n",
    "    dictionnary['BRAKE_1'].append(TimeSeries_file['BRAKE_1'].max())\n",
    "\n",
    "d = {'SERIAL_NUMBER' : [],\n",
    "     'SENSOR_1': [], \n",
    "     'SENSOR_2': [],\n",
    "     'SENSOR_3': [], \n",
    "     'SENSOR_4': [],\n",
    "     'SENSOR_5': [], \n",
    "     'PR_1': [],\n",
    "     'PR_2': [],\n",
    "     'PR_3': [],\n",
    "     'PR_4': [],\n",
    "     'TEMP_1': [],\n",
    "     'TEMP_2': [],\n",
    "     'BRAKE_1':[]}\n",
    "\n",
    "for i in range(len(new_table_list)):\n",
    "    serial_num = new_table_list[i]\n",
    "    TimeSeries_csv = pd.read_csv(csv_path_list[i], sep=';')\n",
    "    get_values(d, serial_num, TimeSeries_csv)"
   ]
  },
  {
   "cell_type": "code",
   "execution_count": 10,
   "metadata": {},
   "outputs": [
    {
     "data": {
      "text/html": [
       "<div>\n",
       "<style scoped>\n",
       "    .dataframe tbody tr th:only-of-type {\n",
       "        vertical-align: middle;\n",
       "    }\n",
       "\n",
       "    .dataframe tbody tr th {\n",
       "        vertical-align: top;\n",
       "    }\n",
       "\n",
       "    .dataframe thead th {\n",
       "        text-align: right;\n",
       "    }\n",
       "</style>\n",
       "<table border=\"1\" class=\"dataframe\">\n",
       "  <thead>\n",
       "    <tr style=\"text-align: right;\">\n",
       "      <th></th>\n",
       "      <th>SERIAL_NUMBER</th>\n",
       "      <th>SENSOR_1</th>\n",
       "      <th>SENSOR_2</th>\n",
       "      <th>SENSOR_3</th>\n",
       "      <th>SENSOR_4</th>\n",
       "      <th>SENSOR_5</th>\n",
       "      <th>PR_1</th>\n",
       "      <th>PR_2</th>\n",
       "      <th>PR_3</th>\n",
       "      <th>PR_4</th>\n",
       "      <th>TEMP_1</th>\n",
       "      <th>TEMP_2</th>\n",
       "      <th>BRAKE_1</th>\n",
       "    </tr>\n",
       "  </thead>\n",
       "  <tbody>\n",
       "    <tr>\n",
       "      <th>0</th>\n",
       "      <td>6926d775e6fcbed5aeaa531efa12dfbe</td>\n",
       "      <td>65.39976</td>\n",
       "      <td>61.00000</td>\n",
       "      <td>0.0</td>\n",
       "      <td>3.587619e+07</td>\n",
       "      <td>-3.458401</td>\n",
       "      <td>215.679794</td>\n",
       "      <td>151.172509</td>\n",
       "      <td>240.524264</td>\n",
       "      <td>93.637200</td>\n",
       "      <td>96.367843</td>\n",
       "      <td>122.423263</td>\n",
       "      <td>5.992632</td>\n",
       "    </tr>\n",
       "    <tr>\n",
       "      <th>1</th>\n",
       "      <td>b4b3f8326e432d20bb621884f8e6aa20</td>\n",
       "      <td>65.85501</td>\n",
       "      <td>61.00000</td>\n",
       "      <td>0.0</td>\n",
       "      <td>3.879039e+07</td>\n",
       "      <td>-3.519021</td>\n",
       "      <td>231.012531</td>\n",
       "      <td>163.287784</td>\n",
       "      <td>305.255232</td>\n",
       "      <td>93.351250</td>\n",
       "      <td>139.614578</td>\n",
       "      <td>137.300791</td>\n",
       "      <td>2.240146</td>\n",
       "    </tr>\n",
       "    <tr>\n",
       "      <th>2</th>\n",
       "      <td>8816d1df936d5c40ca4179fa5f0ad99f</td>\n",
       "      <td>73.46893</td>\n",
       "      <td>60.96239</td>\n",
       "      <td>0.0</td>\n",
       "      <td>8.330947e+07</td>\n",
       "      <td>-3.009780</td>\n",
       "      <td>279.166140</td>\n",
       "      <td>177.984418</td>\n",
       "      <td>173.211844</td>\n",
       "      <td>91.445885</td>\n",
       "      <td>131.888558</td>\n",
       "      <td>135.777767</td>\n",
       "      <td>-2.144391</td>\n",
       "    </tr>\n",
       "    <tr>\n",
       "      <th>3</th>\n",
       "      <td>52ecf1e7c8aaa541ba76dd4a1372a6a1</td>\n",
       "      <td>65.44422</td>\n",
       "      <td>61.00000</td>\n",
       "      <td>0.0</td>\n",
       "      <td>2.801893e+07</td>\n",
       "      <td>-3.420579</td>\n",
       "      <td>220.289291</td>\n",
       "      <td>152.069905</td>\n",
       "      <td>241.002116</td>\n",
       "      <td>93.644424</td>\n",
       "      <td>140.958217</td>\n",
       "      <td>136.323335</td>\n",
       "      <td>6.646833</td>\n",
       "    </tr>\n",
       "    <tr>\n",
       "      <th>4</th>\n",
       "      <td>f681b56ed35d6760937d87dcab59c0a2</td>\n",
       "      <td>66.15480</td>\n",
       "      <td>61.00000</td>\n",
       "      <td>0.0</td>\n",
       "      <td>4.190803e+07</td>\n",
       "      <td>-2.254368</td>\n",
       "      <td>223.147093</td>\n",
       "      <td>150.235235</td>\n",
       "      <td>367.575244</td>\n",
       "      <td>88.053090</td>\n",
       "      <td>119.393747</td>\n",
       "      <td>132.465052</td>\n",
       "      <td>-2.148597</td>\n",
       "    </tr>\n",
       "  </tbody>\n",
       "</table>\n",
       "</div>"
      ],
      "text/plain": [
       "                      SERIAL_NUMBER  SENSOR_1  SENSOR_2  SENSOR_3  \\\n",
       "0  6926d775e6fcbed5aeaa531efa12dfbe  65.39976  61.00000       0.0   \n",
       "1  b4b3f8326e432d20bb621884f8e6aa20  65.85501  61.00000       0.0   \n",
       "2  8816d1df936d5c40ca4179fa5f0ad99f  73.46893  60.96239       0.0   \n",
       "3  52ecf1e7c8aaa541ba76dd4a1372a6a1  65.44422  61.00000       0.0   \n",
       "4  f681b56ed35d6760937d87dcab59c0a2  66.15480  61.00000       0.0   \n",
       "\n",
       "       SENSOR_4  SENSOR_5        PR_1        PR_2        PR_3       PR_4  \\\n",
       "0  3.587619e+07 -3.458401  215.679794  151.172509  240.524264  93.637200   \n",
       "1  3.879039e+07 -3.519021  231.012531  163.287784  305.255232  93.351250   \n",
       "2  8.330947e+07 -3.009780  279.166140  177.984418  173.211844  91.445885   \n",
       "3  2.801893e+07 -3.420579  220.289291  152.069905  241.002116  93.644424   \n",
       "4  4.190803e+07 -2.254368  223.147093  150.235235  367.575244  88.053090   \n",
       "\n",
       "       TEMP_1      TEMP_2   BRAKE_1  \n",
       "0   96.367843  122.423263  5.992632  \n",
       "1  139.614578  137.300791  2.240146  \n",
       "2  131.888558  135.777767 -2.144391  \n",
       "3  140.958217  136.323335  6.646833  \n",
       "4  119.393747  132.465052 -2.148597  "
      ]
     },
     "execution_count": 10,
     "metadata": {},
     "output_type": "execute_result"
    }
   ],
   "source": [
    "import pandas as pd\n",
    "df_TS = pd.DataFrame(data=d)\n",
    "df_TS.head()"
   ]
  },
  {
   "cell_type": "code",
   "execution_count": 11,
   "metadata": {},
   "outputs": [],
   "source": [
    "#df_TS.loc[df_TS['SERIAL_NUMBER'] == \"6708c44794869fecc841594d0baa8046\"]"
   ]
  },
  {
   "cell_type": "code",
   "execution_count": 12,
   "metadata": {},
   "outputs": [
    {
     "data": {
      "text/html": [
       "<div>\n",
       "<style scoped>\n",
       "    .dataframe tbody tr th:only-of-type {\n",
       "        vertical-align: middle;\n",
       "    }\n",
       "\n",
       "    .dataframe tbody tr th {\n",
       "        vertical-align: top;\n",
       "    }\n",
       "\n",
       "    .dataframe thead th {\n",
       "        text-align: right;\n",
       "    }\n",
       "</style>\n",
       "<table border=\"1\" class=\"dataframe\">\n",
       "  <thead>\n",
       "    <tr style=\"text-align: right;\">\n",
       "      <th></th>\n",
       "      <th>TEST_STAND</th>\n",
       "      <th>DATE</th>\n",
       "      <th>HEURE</th>\n",
       "      <th>SERIAL_NUMBER</th>\n",
       "      <th>PRODUCT_NUMBER</th>\n",
       "      <th>RESULT</th>\n",
       "      <th>ALIM_1</th>\n",
       "      <th>ALIM_2</th>\n",
       "      <th>DIRECTION</th>\n",
       "      <th>SENSOR_1</th>\n",
       "      <th>...</th>\n",
       "      <th>SENSOR_3</th>\n",
       "      <th>SENSOR_4</th>\n",
       "      <th>SENSOR_5</th>\n",
       "      <th>PR_1</th>\n",
       "      <th>PR_2</th>\n",
       "      <th>PR_3</th>\n",
       "      <th>PR_4</th>\n",
       "      <th>TEMP_1</th>\n",
       "      <th>TEMP_2</th>\n",
       "      <th>BRAKE_1</th>\n",
       "    </tr>\n",
       "  </thead>\n",
       "  <tbody>\n",
       "    <tr>\n",
       "      <th>0</th>\n",
       "      <td>V01</td>\n",
       "      <td>28/09/2012</td>\n",
       "      <td>17:01:51</td>\n",
       "      <td>6708c44794869fecc841594d0baa8046</td>\n",
       "      <td>e0d25f75f0f54846e0d5929ed4b46aac</td>\n",
       "      <td>W</td>\n",
       "      <td>1.561</td>\n",
       "      <td>0.651</td>\n",
       "      <td>L</td>\n",
       "      <td>71.399760</td>\n",
       "      <td>...</td>\n",
       "      <td>0.0</td>\n",
       "      <td>3.470364e+07</td>\n",
       "      <td>-3.423649</td>\n",
       "      <td>148.015998</td>\n",
       "      <td>109.902395</td>\n",
       "      <td>242.148524</td>\n",
       "      <td>92.21759</td>\n",
       "      <td>130.130740</td>\n",
       "      <td>137.508594</td>\n",
       "      <td>2.752851</td>\n",
       "    </tr>\n",
       "    <tr>\n",
       "      <th>1</th>\n",
       "      <td>V01</td>\n",
       "      <td>28/09/2012</td>\n",
       "      <td>17:01:51</td>\n",
       "      <td>6708c44794869fecc841594d0baa8046</td>\n",
       "      <td>e0d25f75f0f54846e0d5929ed4b46aac</td>\n",
       "      <td>W</td>\n",
       "      <td>1.561</td>\n",
       "      <td>0.651</td>\n",
       "      <td>L</td>\n",
       "      <td>98.795334</td>\n",
       "      <td>...</td>\n",
       "      <td>0.0</td>\n",
       "      <td>2.877433e+07</td>\n",
       "      <td>-3.437542</td>\n",
       "      <td>228.796063</td>\n",
       "      <td>147.108629</td>\n",
       "      <td>241.527500</td>\n",
       "      <td>93.90983</td>\n",
       "      <td>132.433808</td>\n",
       "      <td>134.589625</td>\n",
       "      <td>2.678646</td>\n",
       "    </tr>\n",
       "    <tr>\n",
       "      <th>2</th>\n",
       "      <td>V01</td>\n",
       "      <td>28/09/2012</td>\n",
       "      <td>17:01:51</td>\n",
       "      <td>6708c44794869fecc841594d0baa8046</td>\n",
       "      <td>e0d25f75f0f54846e0d5929ed4b46aac</td>\n",
       "      <td>W</td>\n",
       "      <td>1.561</td>\n",
       "      <td>0.651</td>\n",
       "      <td>L</td>\n",
       "      <td>102.882330</td>\n",
       "      <td>...</td>\n",
       "      <td>0.0</td>\n",
       "      <td>4.497508e+07</td>\n",
       "      <td>-3.383994</td>\n",
       "      <td>269.385586</td>\n",
       "      <td>169.470654</td>\n",
       "      <td>240.890548</td>\n",
       "      <td>93.52703</td>\n",
       "      <td>122.518254</td>\n",
       "      <td>134.129250</td>\n",
       "      <td>2.667805</td>\n",
       "    </tr>\n",
       "    <tr>\n",
       "      <th>3</th>\n",
       "      <td>V01</td>\n",
       "      <td>28/09/2012</td>\n",
       "      <td>17:01:51</td>\n",
       "      <td>6708c44794869fecc841594d0baa8046</td>\n",
       "      <td>e0d25f75f0f54846e0d5929ed4b46aac</td>\n",
       "      <td>W</td>\n",
       "      <td>1.561</td>\n",
       "      <td>0.651</td>\n",
       "      <td>L</td>\n",
       "      <td>96.042220</td>\n",
       "      <td>...</td>\n",
       "      <td>0.0</td>\n",
       "      <td>3.497904e+07</td>\n",
       "      <td>-3.379205</td>\n",
       "      <td>242.831750</td>\n",
       "      <td>156.643037</td>\n",
       "      <td>241.431960</td>\n",
       "      <td>92.22802</td>\n",
       "      <td>132.285129</td>\n",
       "      <td>131.973396</td>\n",
       "      <td>4.650496</td>\n",
       "    </tr>\n",
       "    <tr>\n",
       "      <th>4</th>\n",
       "      <td>V01</td>\n",
       "      <td>28/09/2012</td>\n",
       "      <td>17:06:47</td>\n",
       "      <td>6708c44794869fecc841594d0baa8046</td>\n",
       "      <td>e0d25f75f0f54846e0d5929ed4b46aac</td>\n",
       "      <td>W</td>\n",
       "      <td>1.729</td>\n",
       "      <td>0.756</td>\n",
       "      <td>L</td>\n",
       "      <td>71.399760</td>\n",
       "      <td>...</td>\n",
       "      <td>0.0</td>\n",
       "      <td>3.470364e+07</td>\n",
       "      <td>-3.423649</td>\n",
       "      <td>148.015998</td>\n",
       "      <td>109.902395</td>\n",
       "      <td>242.148524</td>\n",
       "      <td>92.21759</td>\n",
       "      <td>130.130740</td>\n",
       "      <td>137.508594</td>\n",
       "      <td>2.752851</td>\n",
       "    </tr>\n",
       "  </tbody>\n",
       "</table>\n",
       "<p>5 rows × 21 columns</p>\n",
       "</div>"
      ],
      "text/plain": [
       "  TEST_STAND        DATE     HEURE                     SERIAL_NUMBER  \\\n",
       "0        V01  28/09/2012  17:01:51  6708c44794869fecc841594d0baa8046   \n",
       "1        V01  28/09/2012  17:01:51  6708c44794869fecc841594d0baa8046   \n",
       "2        V01  28/09/2012  17:01:51  6708c44794869fecc841594d0baa8046   \n",
       "3        V01  28/09/2012  17:01:51  6708c44794869fecc841594d0baa8046   \n",
       "4        V01  28/09/2012  17:06:47  6708c44794869fecc841594d0baa8046   \n",
       "\n",
       "                     PRODUCT_NUMBER RESULT  ALIM_1  ALIM_2 DIRECTION  \\\n",
       "0  e0d25f75f0f54846e0d5929ed4b46aac      W   1.561   0.651         L   \n",
       "1  e0d25f75f0f54846e0d5929ed4b46aac      W   1.561   0.651         L   \n",
       "2  e0d25f75f0f54846e0d5929ed4b46aac      W   1.561   0.651         L   \n",
       "3  e0d25f75f0f54846e0d5929ed4b46aac      W   1.561   0.651         L   \n",
       "4  e0d25f75f0f54846e0d5929ed4b46aac      W   1.729   0.756         L   \n",
       "\n",
       "     SENSOR_1  ...  SENSOR_3      SENSOR_4  SENSOR_5        PR_1        PR_2  \\\n",
       "0   71.399760  ...       0.0  3.470364e+07 -3.423649  148.015998  109.902395   \n",
       "1   98.795334  ...       0.0  2.877433e+07 -3.437542  228.796063  147.108629   \n",
       "2  102.882330  ...       0.0  4.497508e+07 -3.383994  269.385586  169.470654   \n",
       "3   96.042220  ...       0.0  3.497904e+07 -3.379205  242.831750  156.643037   \n",
       "4   71.399760  ...       0.0  3.470364e+07 -3.423649  148.015998  109.902395   \n",
       "\n",
       "         PR_3      PR_4      TEMP_1      TEMP_2   BRAKE_1  \n",
       "0  242.148524  92.21759  130.130740  137.508594  2.752851  \n",
       "1  241.527500  93.90983  132.433808  134.589625  2.678646  \n",
       "2  240.890548  93.52703  122.518254  134.129250  2.667805  \n",
       "3  241.431960  92.22802  132.285129  131.973396  4.650496  \n",
       "4  242.148524  92.21759  130.130740  137.508594  2.752851  \n",
       "\n",
       "[5 rows x 21 columns]"
      ]
     },
     "execution_count": 12,
     "metadata": {},
     "output_type": "execute_result"
    }
   ],
   "source": [
    "df_result_TS = pd.merge(df_result, df_TS, how=\"inner\", on=\"SERIAL_NUMBER\")\n",
    "df_result_TS.head()"
   ]
  },
  {
   "cell_type": "code",
   "execution_count": 13,
   "metadata": {},
   "outputs": [],
   "source": [
    "#df_result_TS.loc[df_result_TS['SERIAL_NUMBER'] == \"6708c44794869fecc841594d0baa8046\"]"
   ]
  },
  {
   "cell_type": "markdown",
   "metadata": {},
   "source": [
    "# Préparation d'un DataFrame pour le Machine Learning"
   ]
  },
  {
   "cell_type": "code",
   "execution_count": 14,
   "metadata": {},
   "outputs": [
    {
     "data": {
      "text/html": [
       "<div>\n",
       "<style scoped>\n",
       "    .dataframe tbody tr th:only-of-type {\n",
       "        vertical-align: middle;\n",
       "    }\n",
       "\n",
       "    .dataframe tbody tr th {\n",
       "        vertical-align: top;\n",
       "    }\n",
       "\n",
       "    .dataframe thead th {\n",
       "        text-align: right;\n",
       "    }\n",
       "</style>\n",
       "<table border=\"1\" class=\"dataframe\">\n",
       "  <thead>\n",
       "    <tr style=\"text-align: right;\">\n",
       "      <th></th>\n",
       "      <th>RESULT</th>\n",
       "      <th>ALIM_1</th>\n",
       "      <th>ALIM_2</th>\n",
       "      <th>SENSOR_1</th>\n",
       "      <th>SENSOR_2</th>\n",
       "      <th>SENSOR_3</th>\n",
       "      <th>SENSOR_4</th>\n",
       "      <th>SENSOR_5</th>\n",
       "      <th>PR_1</th>\n",
       "      <th>PR_2</th>\n",
       "      <th>PR_3</th>\n",
       "      <th>PR_4</th>\n",
       "      <th>TEMP_1</th>\n",
       "      <th>TEMP_2</th>\n",
       "      <th>BRAKE_1</th>\n",
       "    </tr>\n",
       "  </thead>\n",
       "  <tbody>\n",
       "    <tr>\n",
       "      <th>0</th>\n",
       "      <td>W</td>\n",
       "      <td>1.561</td>\n",
       "      <td>0.651</td>\n",
       "      <td>71.399760</td>\n",
       "      <td>61.0</td>\n",
       "      <td>0.0</td>\n",
       "      <td>3.470364e+07</td>\n",
       "      <td>-3.423649</td>\n",
       "      <td>148.015998</td>\n",
       "      <td>109.902395</td>\n",
       "      <td>242.148524</td>\n",
       "      <td>92.21759</td>\n",
       "      <td>130.130740</td>\n",
       "      <td>137.508594</td>\n",
       "      <td>2.752851</td>\n",
       "    </tr>\n",
       "    <tr>\n",
       "      <th>1</th>\n",
       "      <td>W</td>\n",
       "      <td>1.561</td>\n",
       "      <td>0.651</td>\n",
       "      <td>98.795334</td>\n",
       "      <td>61.0</td>\n",
       "      <td>0.0</td>\n",
       "      <td>2.877433e+07</td>\n",
       "      <td>-3.437542</td>\n",
       "      <td>228.796063</td>\n",
       "      <td>147.108629</td>\n",
       "      <td>241.527500</td>\n",
       "      <td>93.90983</td>\n",
       "      <td>132.433808</td>\n",
       "      <td>134.589625</td>\n",
       "      <td>2.678646</td>\n",
       "    </tr>\n",
       "    <tr>\n",
       "      <th>2</th>\n",
       "      <td>W</td>\n",
       "      <td>1.561</td>\n",
       "      <td>0.651</td>\n",
       "      <td>102.882330</td>\n",
       "      <td>61.0</td>\n",
       "      <td>0.0</td>\n",
       "      <td>4.497508e+07</td>\n",
       "      <td>-3.383994</td>\n",
       "      <td>269.385586</td>\n",
       "      <td>169.470654</td>\n",
       "      <td>240.890548</td>\n",
       "      <td>93.52703</td>\n",
       "      <td>122.518254</td>\n",
       "      <td>134.129250</td>\n",
       "      <td>2.667805</td>\n",
       "    </tr>\n",
       "    <tr>\n",
       "      <th>3</th>\n",
       "      <td>W</td>\n",
       "      <td>1.561</td>\n",
       "      <td>0.651</td>\n",
       "      <td>96.042220</td>\n",
       "      <td>61.0</td>\n",
       "      <td>0.0</td>\n",
       "      <td>3.497904e+07</td>\n",
       "      <td>-3.379205</td>\n",
       "      <td>242.831750</td>\n",
       "      <td>156.643037</td>\n",
       "      <td>241.431960</td>\n",
       "      <td>92.22802</td>\n",
       "      <td>132.285129</td>\n",
       "      <td>131.973396</td>\n",
       "      <td>4.650496</td>\n",
       "    </tr>\n",
       "    <tr>\n",
       "      <th>4</th>\n",
       "      <td>W</td>\n",
       "      <td>1.729</td>\n",
       "      <td>0.756</td>\n",
       "      <td>71.399760</td>\n",
       "      <td>61.0</td>\n",
       "      <td>0.0</td>\n",
       "      <td>3.470364e+07</td>\n",
       "      <td>-3.423649</td>\n",
       "      <td>148.015998</td>\n",
       "      <td>109.902395</td>\n",
       "      <td>242.148524</td>\n",
       "      <td>92.21759</td>\n",
       "      <td>130.130740</td>\n",
       "      <td>137.508594</td>\n",
       "      <td>2.752851</td>\n",
       "    </tr>\n",
       "  </tbody>\n",
       "</table>\n",
       "</div>"
      ],
      "text/plain": [
       "  RESULT  ALIM_1  ALIM_2    SENSOR_1  SENSOR_2  SENSOR_3      SENSOR_4  \\\n",
       "0      W   1.561   0.651   71.399760      61.0       0.0  3.470364e+07   \n",
       "1      W   1.561   0.651   98.795334      61.0       0.0  2.877433e+07   \n",
       "2      W   1.561   0.651  102.882330      61.0       0.0  4.497508e+07   \n",
       "3      W   1.561   0.651   96.042220      61.0       0.0  3.497904e+07   \n",
       "4      W   1.729   0.756   71.399760      61.0       0.0  3.470364e+07   \n",
       "\n",
       "   SENSOR_5        PR_1        PR_2        PR_3      PR_4      TEMP_1  \\\n",
       "0 -3.423649  148.015998  109.902395  242.148524  92.21759  130.130740   \n",
       "1 -3.437542  228.796063  147.108629  241.527500  93.90983  132.433808   \n",
       "2 -3.383994  269.385586  169.470654  240.890548  93.52703  122.518254   \n",
       "3 -3.379205  242.831750  156.643037  241.431960  92.22802  132.285129   \n",
       "4 -3.423649  148.015998  109.902395  242.148524  92.21759  130.130740   \n",
       "\n",
       "       TEMP_2   BRAKE_1  \n",
       "0  137.508594  2.752851  \n",
       "1  134.589625  2.678646  \n",
       "2  134.129250  2.667805  \n",
       "3  131.973396  4.650496  \n",
       "4  137.508594  2.752851  "
      ]
     },
     "execution_count": 14,
     "metadata": {},
     "output_type": "execute_result"
    }
   ],
   "source": [
    "final_df = df_result_TS.drop(columns=['TEST_STAND', 'DATE', 'HEURE', 'SERIAL_NUMBER', 'PRODUCT_NUMBER','DIRECTION'])\n",
    "final_df.head()"
   ]
  },
  {
   "cell_type": "code",
   "execution_count": 15,
   "metadata": {},
   "outputs": [
    {
     "data": {
      "text/html": [
       "<div>\n",
       "<style scoped>\n",
       "    .dataframe tbody tr th:only-of-type {\n",
       "        vertical-align: middle;\n",
       "    }\n",
       "\n",
       "    .dataframe tbody tr th {\n",
       "        vertical-align: top;\n",
       "    }\n",
       "\n",
       "    .dataframe thead th {\n",
       "        text-align: right;\n",
       "    }\n",
       "</style>\n",
       "<table border=\"1\" class=\"dataframe\">\n",
       "  <thead>\n",
       "    <tr style=\"text-align: right;\">\n",
       "      <th></th>\n",
       "      <th>RESULT</th>\n",
       "      <th>ALIM_1</th>\n",
       "      <th>ALIM_2</th>\n",
       "      <th>SENSOR_1</th>\n",
       "      <th>SENSOR_2</th>\n",
       "      <th>SENSOR_3</th>\n",
       "      <th>SENSOR_4</th>\n",
       "      <th>SENSOR_5</th>\n",
       "      <th>PR_1</th>\n",
       "      <th>PR_2</th>\n",
       "      <th>PR_3</th>\n",
       "      <th>PR_4</th>\n",
       "      <th>TEMP_1</th>\n",
       "      <th>TEMP_2</th>\n",
       "      <th>BRAKE_1</th>\n",
       "    </tr>\n",
       "  </thead>\n",
       "  <tbody>\n",
       "    <tr>\n",
       "      <th>0</th>\n",
       "      <td>1</td>\n",
       "      <td>1.561</td>\n",
       "      <td>0.651</td>\n",
       "      <td>71.399760</td>\n",
       "      <td>61.0</td>\n",
       "      <td>0.0</td>\n",
       "      <td>3.470364e+07</td>\n",
       "      <td>-3.423649</td>\n",
       "      <td>148.015998</td>\n",
       "      <td>109.902395</td>\n",
       "      <td>242.148524</td>\n",
       "      <td>92.21759</td>\n",
       "      <td>130.130740</td>\n",
       "      <td>137.508594</td>\n",
       "      <td>2.752851</td>\n",
       "    </tr>\n",
       "    <tr>\n",
       "      <th>1</th>\n",
       "      <td>1</td>\n",
       "      <td>1.561</td>\n",
       "      <td>0.651</td>\n",
       "      <td>98.795334</td>\n",
       "      <td>61.0</td>\n",
       "      <td>0.0</td>\n",
       "      <td>2.877433e+07</td>\n",
       "      <td>-3.437542</td>\n",
       "      <td>228.796063</td>\n",
       "      <td>147.108629</td>\n",
       "      <td>241.527500</td>\n",
       "      <td>93.90983</td>\n",
       "      <td>132.433808</td>\n",
       "      <td>134.589625</td>\n",
       "      <td>2.678646</td>\n",
       "    </tr>\n",
       "    <tr>\n",
       "      <th>2</th>\n",
       "      <td>1</td>\n",
       "      <td>1.561</td>\n",
       "      <td>0.651</td>\n",
       "      <td>102.882330</td>\n",
       "      <td>61.0</td>\n",
       "      <td>0.0</td>\n",
       "      <td>4.497508e+07</td>\n",
       "      <td>-3.383994</td>\n",
       "      <td>269.385586</td>\n",
       "      <td>169.470654</td>\n",
       "      <td>240.890548</td>\n",
       "      <td>93.52703</td>\n",
       "      <td>122.518254</td>\n",
       "      <td>134.129250</td>\n",
       "      <td>2.667805</td>\n",
       "    </tr>\n",
       "    <tr>\n",
       "      <th>3</th>\n",
       "      <td>1</td>\n",
       "      <td>1.561</td>\n",
       "      <td>0.651</td>\n",
       "      <td>96.042220</td>\n",
       "      <td>61.0</td>\n",
       "      <td>0.0</td>\n",
       "      <td>3.497904e+07</td>\n",
       "      <td>-3.379205</td>\n",
       "      <td>242.831750</td>\n",
       "      <td>156.643037</td>\n",
       "      <td>241.431960</td>\n",
       "      <td>92.22802</td>\n",
       "      <td>132.285129</td>\n",
       "      <td>131.973396</td>\n",
       "      <td>4.650496</td>\n",
       "    </tr>\n",
       "    <tr>\n",
       "      <th>4</th>\n",
       "      <td>1</td>\n",
       "      <td>1.729</td>\n",
       "      <td>0.756</td>\n",
       "      <td>71.399760</td>\n",
       "      <td>61.0</td>\n",
       "      <td>0.0</td>\n",
       "      <td>3.470364e+07</td>\n",
       "      <td>-3.423649</td>\n",
       "      <td>148.015998</td>\n",
       "      <td>109.902395</td>\n",
       "      <td>242.148524</td>\n",
       "      <td>92.21759</td>\n",
       "      <td>130.130740</td>\n",
       "      <td>137.508594</td>\n",
       "      <td>2.752851</td>\n",
       "    </tr>\n",
       "  </tbody>\n",
       "</table>\n",
       "</div>"
      ],
      "text/plain": [
       "   RESULT  ALIM_1  ALIM_2    SENSOR_1  SENSOR_2  SENSOR_3      SENSOR_4  \\\n",
       "0       1   1.561   0.651   71.399760      61.0       0.0  3.470364e+07   \n",
       "1       1   1.561   0.651   98.795334      61.0       0.0  2.877433e+07   \n",
       "2       1   1.561   0.651  102.882330      61.0       0.0  4.497508e+07   \n",
       "3       1   1.561   0.651   96.042220      61.0       0.0  3.497904e+07   \n",
       "4       1   1.729   0.756   71.399760      61.0       0.0  3.470364e+07   \n",
       "\n",
       "   SENSOR_5        PR_1        PR_2        PR_3      PR_4      TEMP_1  \\\n",
       "0 -3.423649  148.015998  109.902395  242.148524  92.21759  130.130740   \n",
       "1 -3.437542  228.796063  147.108629  241.527500  93.90983  132.433808   \n",
       "2 -3.383994  269.385586  169.470654  240.890548  93.52703  122.518254   \n",
       "3 -3.379205  242.831750  156.643037  241.431960  92.22802  132.285129   \n",
       "4 -3.423649  148.015998  109.902395  242.148524  92.21759  130.130740   \n",
       "\n",
       "       TEMP_2   BRAKE_1  \n",
       "0  137.508594  2.752851  \n",
       "1  134.589625  2.678646  \n",
       "2  134.129250  2.667805  \n",
       "3  131.973396  4.650496  \n",
       "4  137.508594  2.752851  "
      ]
     },
     "execution_count": 15,
     "metadata": {},
     "output_type": "execute_result"
    }
   ],
   "source": [
    "# Remplacer W par 0, et G par 1\n",
    "final_df.replace(to_replace='G', value=0, inplace=True)\n",
    "final_df.replace(to_replace='W', value=1, inplace=True)\n",
    "final_df.head()"
   ]
  },
  {
   "cell_type": "markdown",
   "metadata": {},
   "source": [
    "## Séparer labels et features"
   ]
  },
  {
   "cell_type": "code",
   "execution_count": 16,
   "metadata": {},
   "outputs": [],
   "source": [
    "# Features\n",
    "X = final_df.drop(columns='RESULT')\n",
    "# Labels\n",
    "y = final_df['RESULT']"
   ]
  },
  {
   "cell_type": "code",
   "execution_count": 17,
   "metadata": {},
   "outputs": [
    {
     "data": {
      "text/html": [
       "<div>\n",
       "<style scoped>\n",
       "    .dataframe tbody tr th:only-of-type {\n",
       "        vertical-align: middle;\n",
       "    }\n",
       "\n",
       "    .dataframe tbody tr th {\n",
       "        vertical-align: top;\n",
       "    }\n",
       "\n",
       "    .dataframe thead th {\n",
       "        text-align: right;\n",
       "    }\n",
       "</style>\n",
       "<table border=\"1\" class=\"dataframe\">\n",
       "  <thead>\n",
       "    <tr style=\"text-align: right;\">\n",
       "      <th></th>\n",
       "      <th>ALIM_1</th>\n",
       "      <th>ALIM_2</th>\n",
       "      <th>SENSOR_1</th>\n",
       "      <th>SENSOR_2</th>\n",
       "      <th>SENSOR_3</th>\n",
       "      <th>SENSOR_4</th>\n",
       "      <th>SENSOR_5</th>\n",
       "      <th>PR_1</th>\n",
       "      <th>PR_2</th>\n",
       "      <th>PR_3</th>\n",
       "      <th>PR_4</th>\n",
       "      <th>TEMP_1</th>\n",
       "      <th>TEMP_2</th>\n",
       "      <th>BRAKE_1</th>\n",
       "    </tr>\n",
       "  </thead>\n",
       "  <tbody>\n",
       "    <tr>\n",
       "      <th>0</th>\n",
       "      <td>1.561</td>\n",
       "      <td>0.651</td>\n",
       "      <td>71.399760</td>\n",
       "      <td>61.0</td>\n",
       "      <td>0.0</td>\n",
       "      <td>3.470364e+07</td>\n",
       "      <td>-3.423649</td>\n",
       "      <td>148.015998</td>\n",
       "      <td>109.902395</td>\n",
       "      <td>242.148524</td>\n",
       "      <td>92.21759</td>\n",
       "      <td>130.130740</td>\n",
       "      <td>137.508594</td>\n",
       "      <td>2.752851</td>\n",
       "    </tr>\n",
       "    <tr>\n",
       "      <th>1</th>\n",
       "      <td>1.561</td>\n",
       "      <td>0.651</td>\n",
       "      <td>98.795334</td>\n",
       "      <td>61.0</td>\n",
       "      <td>0.0</td>\n",
       "      <td>2.877433e+07</td>\n",
       "      <td>-3.437542</td>\n",
       "      <td>228.796063</td>\n",
       "      <td>147.108629</td>\n",
       "      <td>241.527500</td>\n",
       "      <td>93.90983</td>\n",
       "      <td>132.433808</td>\n",
       "      <td>134.589625</td>\n",
       "      <td>2.678646</td>\n",
       "    </tr>\n",
       "    <tr>\n",
       "      <th>2</th>\n",
       "      <td>1.561</td>\n",
       "      <td>0.651</td>\n",
       "      <td>102.882330</td>\n",
       "      <td>61.0</td>\n",
       "      <td>0.0</td>\n",
       "      <td>4.497508e+07</td>\n",
       "      <td>-3.383994</td>\n",
       "      <td>269.385586</td>\n",
       "      <td>169.470654</td>\n",
       "      <td>240.890548</td>\n",
       "      <td>93.52703</td>\n",
       "      <td>122.518254</td>\n",
       "      <td>134.129250</td>\n",
       "      <td>2.667805</td>\n",
       "    </tr>\n",
       "    <tr>\n",
       "      <th>3</th>\n",
       "      <td>1.561</td>\n",
       "      <td>0.651</td>\n",
       "      <td>96.042220</td>\n",
       "      <td>61.0</td>\n",
       "      <td>0.0</td>\n",
       "      <td>3.497904e+07</td>\n",
       "      <td>-3.379205</td>\n",
       "      <td>242.831750</td>\n",
       "      <td>156.643037</td>\n",
       "      <td>241.431960</td>\n",
       "      <td>92.22802</td>\n",
       "      <td>132.285129</td>\n",
       "      <td>131.973396</td>\n",
       "      <td>4.650496</td>\n",
       "    </tr>\n",
       "    <tr>\n",
       "      <th>4</th>\n",
       "      <td>1.729</td>\n",
       "      <td>0.756</td>\n",
       "      <td>71.399760</td>\n",
       "      <td>61.0</td>\n",
       "      <td>0.0</td>\n",
       "      <td>3.470364e+07</td>\n",
       "      <td>-3.423649</td>\n",
       "      <td>148.015998</td>\n",
       "      <td>109.902395</td>\n",
       "      <td>242.148524</td>\n",
       "      <td>92.21759</td>\n",
       "      <td>130.130740</td>\n",
       "      <td>137.508594</td>\n",
       "      <td>2.752851</td>\n",
       "    </tr>\n",
       "  </tbody>\n",
       "</table>\n",
       "</div>"
      ],
      "text/plain": [
       "   ALIM_1  ALIM_2    SENSOR_1  SENSOR_2  SENSOR_3      SENSOR_4  SENSOR_5  \\\n",
       "0   1.561   0.651   71.399760      61.0       0.0  3.470364e+07 -3.423649   \n",
       "1   1.561   0.651   98.795334      61.0       0.0  2.877433e+07 -3.437542   \n",
       "2   1.561   0.651  102.882330      61.0       0.0  4.497508e+07 -3.383994   \n",
       "3   1.561   0.651   96.042220      61.0       0.0  3.497904e+07 -3.379205   \n",
       "4   1.729   0.756   71.399760      61.0       0.0  3.470364e+07 -3.423649   \n",
       "\n",
       "         PR_1        PR_2        PR_3      PR_4      TEMP_1      TEMP_2  \\\n",
       "0  148.015998  109.902395  242.148524  92.21759  130.130740  137.508594   \n",
       "1  228.796063  147.108629  241.527500  93.90983  132.433808  134.589625   \n",
       "2  269.385586  169.470654  240.890548  93.52703  122.518254  134.129250   \n",
       "3  242.831750  156.643037  241.431960  92.22802  132.285129  131.973396   \n",
       "4  148.015998  109.902395  242.148524  92.21759  130.130740  137.508594   \n",
       "\n",
       "    BRAKE_1  \n",
       "0  2.752851  \n",
       "1  2.678646  \n",
       "2  2.667805  \n",
       "3  4.650496  \n",
       "4  2.752851  "
      ]
     },
     "execution_count": 17,
     "metadata": {},
     "output_type": "execute_result"
    }
   ],
   "source": [
    "X.head()"
   ]
  },
  {
   "cell_type": "markdown",
   "metadata": {},
   "source": [
    "# Machine Learning"
   ]
  },
  {
   "cell_type": "code",
   "execution_count": 18,
   "metadata": {},
   "outputs": [],
   "source": [
    "from sklearn.model_selection import train_test_split\n",
    "\n",
    "# Training set et test set\n",
    "X_train, X_test, y_train, y_test = train_test_split(X, y, test_size=0.33, random_state=42)"
   ]
  },
  {
   "cell_type": "code",
   "execution_count": 19,
   "metadata": {},
   "outputs": [],
   "source": [
    "# Save X_test and y_test as CSV file\n",
    "X_test.to_csv('X_test.csv',index=False)\n",
    "y_test.to_csv('y_test.csv',index=False)"
   ]
  },
  {
   "cell_type": "code",
   "execution_count": 20,
   "metadata": {},
   "outputs": [],
   "source": [
    "# Lire le fichier X_test.csv\n",
    "#test = pd.read_csv('/home/fitec/Mise en situation professionnelle/Projets FITEC/Test Bench/POC/X_test.csv')\n",
    "#test.head()"
   ]
  },
  {
   "cell_type": "markdown",
   "metadata": {},
   "source": [
    "### Application du PCA"
   ]
  },
  {
   "cell_type": "code",
   "execution_count": 21,
   "metadata": {},
   "outputs": [],
   "source": [
    "#from sklearn.preprocessing import StandardScaler\n",
    "#\n",
    "## Centrer-réduire les features\n",
    "#sc = StandardScaler()\n",
    "#X_scaled = sc.fit_transform(X)\n",
    "#X_scaled_df = pd.DataFrame(X_scaled, columns=['ALIM_1',\n",
    "#                                      'ALIM_2',\n",
    "#                                      'SENSOR_1',\n",
    "#                                      'SENSOR_2',\n",
    "#                                      'SENSOR_3',\n",
    "#                                      'SENSOR_4',\n",
    "#                                      'SENSOR_5',\n",
    "#                                      'PR_1',\n",
    "#                                      'PR_2',\n",
    "#                                      'PR_3',\n",
    "#                                      'PR_4',\n",
    "#                                      'TEMP_1',\n",
    "#                                      'TEMP_2',\n",
    "#                                      'BRAKE_1'])\n",
    "# \n",
    "#X_scaled_df.head()\n",
    "\n",
    "\n",
    "# La cellule suivante fait la même chose"
   ]
  },
  {
   "cell_type": "code",
   "execution_count": 22,
   "metadata": {},
   "outputs": [],
   "source": [
    "# Normalization\n",
    "from sklearn.preprocessing import StandardScaler\n",
    "\n",
    "sc = StandardScaler()\n",
    "X_train = sc.fit_transform(X_train)\n",
    "X_test = sc.transform(X_test)"
   ]
  },
  {
   "cell_type": "code",
   "execution_count": 23,
   "metadata": {},
   "outputs": [],
   "source": [
    "import pickle\n",
    "pickle.dump(sc, open(\"sc.pkl\",\"wb\"))"
   ]
  },
  {
   "cell_type": "code",
   "execution_count": 24,
   "metadata": {},
   "outputs": [],
   "source": [
    "# Application du PCA\n",
    "from sklearn.decomposition import PCA\n",
    "\n",
    "pca = PCA(n_components=9)\n",
    "X_train = pca.fit_transform(X_train)\n",
    "X_test = pca.transform(X_test)"
   ]
  },
  {
   "cell_type": "code",
   "execution_count": 25,
   "metadata": {},
   "outputs": [],
   "source": [
    "# How to export PCA in another program\n",
    "# https://datascience.stackexchange.com/questions/55066/how-to-export-pca-to-use-in-another-program\n",
    "\n",
    "import pickle\n",
    "pickle.dump(pca, open(\"pca.pkl\",\"wb\"))"
   ]
  },
  {
   "cell_type": "markdown",
   "metadata": {},
   "source": [
    "## Oversampling"
   ]
  },
  {
   "cell_type": "code",
   "execution_count": 26,
   "metadata": {},
   "outputs": [
    {
     "name": "stderr",
     "output_type": "stream",
     "text": [
      "/home/fitec/anaconda3/lib/python3.9/site-packages/seaborn/_decorators.py:36: FutureWarning: Pass the following variable as a keyword arg: x. From version 0.12, the only valid positional argument will be `data`, and passing other arguments without an explicit keyword will result in an error or misinterpretation.\n",
      "  warnings.warn(\n"
     ]
    },
    {
     "data": {
      "text/plain": [
       "<AxesSubplot:xlabel='RESULT', ylabel='count'>"
      ]
     },
     "execution_count": 26,
     "metadata": {},
     "output_type": "execute_result"
    },
    {
     "data": {
      "image/png": "[encoded data removed]",
      "text/plain": [
       "<Figure size 432x288 with 1 Axes>"
      ]
     },
     "metadata": {
      "needs_background": "light"
     },
     "output_type": "display_data"
    }
   ],
   "source": [
    "sns.countplot(y_train)"
   ]
  },
  {
   "cell_type": "code",
   "execution_count": 27,
   "metadata": {},
   "outputs": [
    {
     "name": "stdout",
     "output_type": "stream",
     "text": [
      "0.7.0\n"
     ]
    }
   ],
   "source": [
    "# Installer la bibliothèque à partir du terminal : sudo pip install imbalanced-learn\n",
    "# Installer pour Jupyter Notebook : conda install -c conda-forge imbalanced-learn\n",
    "\n",
    "# check version number\n",
    "import imblearn\n",
    "print(imblearn.__version__)"
   ]
  },
  {
   "cell_type": "code",
   "execution_count": 28,
   "metadata": {},
   "outputs": [
    {
     "name": "stdout",
     "output_type": "stream",
     "text": [
      "Counter({0: 910, 1: 910})\n"
     ]
    },
    {
     "name": "stderr",
     "output_type": "stream",
     "text": [
      "/home/fitec/anaconda3/lib/python3.9/site-packages/seaborn/_decorators.py:36: FutureWarning: Pass the following variable as a keyword arg: x. From version 0.12, the only valid positional argument will be `data`, and passing other arguments without an explicit keyword will result in an error or misinterpretation.\n",
      "  warnings.warn(\n"
     ]
    },
    {
     "data": {
      "text/plain": [
       "<AxesSubplot:xlabel='RESULT', ylabel='count'>"
      ]
     },
     "execution_count": 28,
     "metadata": {},
     "output_type": "execute_result"
    },
    {
     "data": {
      "image/png": "[encoded data removed]",
      "text/plain": [
       "<Figure size 432x288 with 1 Axes>"
      ]
     },
     "metadata": {
      "needs_background": "light"
     },
     "output_type": "display_data"
    }
   ],
   "source": [
    "from imblearn.over_sampling import RandomOverSampler\n",
    "from collections import Counter\n",
    "\n",
    "oversample = RandomOverSampler(sampling_strategy='minority')\n",
    "X_train_over, y_train_over = oversample.fit_resample(X_train, y_train)\n",
    "print(Counter(y_train_over))\n",
    "sns.countplot(y_train_over)"
   ]
  },
  {
   "cell_type": "markdown",
   "metadata": {},
   "source": [
    "## Logistic Regression"
   ]
  },
  {
   "cell_type": "code",
   "execution_count": 29,
   "metadata": {},
   "outputs": [],
   "source": [
    "from sklearn.linear_model import LogisticRegression\n",
    "\n",
    "# Logistic Regression\n",
    "clf = LogisticRegression(random_state=0).fit(X_train_over, y_train_over)\n",
    "y_pred = clf.predict(X_test)\n",
    "\n",
    "#print(f'y_pred = \\n{y_pred}')\n",
    "y_test_list = list(y_test)\n",
    "#print(f'y_test = \\n{y_test_list}')"
   ]
  },
  {
   "cell_type": "code",
   "execution_count": 30,
   "metadata": {},
   "outputs": [
    {
     "data": {
      "text/html": [
       "<div>\n",
       "<style scoped>\n",
       "    .dataframe tbody tr th:only-of-type {\n",
       "        vertical-align: middle;\n",
       "    }\n",
       "\n",
       "    .dataframe tbody tr th {\n",
       "        vertical-align: top;\n",
       "    }\n",
       "\n",
       "    .dataframe thead th {\n",
       "        text-align: right;\n",
       "    }\n",
       "</style>\n",
       "<table border=\"1\" class=\"dataframe\">\n",
       "  <thead>\n",
       "    <tr style=\"text-align: right;\">\n",
       "      <th>Classe prédite</th>\n",
       "      <th>0</th>\n",
       "      <th>1</th>\n",
       "    </tr>\n",
       "    <tr>\n",
       "      <th>Classe réelle</th>\n",
       "      <th></th>\n",
       "      <th></th>\n",
       "    </tr>\n",
       "  </thead>\n",
       "  <tbody>\n",
       "    <tr>\n",
       "      <th>0</th>\n",
       "      <td>342</td>\n",
       "      <td>114</td>\n",
       "    </tr>\n",
       "    <tr>\n",
       "      <th>1</th>\n",
       "      <td>8</td>\n",
       "      <td>13</td>\n",
       "    </tr>\n",
       "  </tbody>\n",
       "</table>\n",
       "</div>"
      ],
      "text/plain": [
       "Classe prédite    0    1\n",
       "Classe réelle           \n",
       "0               342  114\n",
       "1                 8   13"
      ]
     },
     "execution_count": 30,
     "metadata": {},
     "output_type": "execute_result"
    }
   ],
   "source": [
    "confusion_matrix = pd.crosstab(y_test, y_pred, rownames =['Classe réelle'], colnames=['Classe prédite'])\n",
    "confusion_matrix"
   ]
  },
  {
   "cell_type": "code",
   "execution_count": 31,
   "metadata": {},
   "outputs": [
    {
     "name": "stdout",
     "output_type": "stream",
     "text": [
      "Accuracy: 0.7442348008385744\n",
      "Recall: 0.6190476190476191\n"
     ]
    }
   ],
   "source": [
    "from sklearn.metrics import accuracy_score\n",
    "from sklearn.metrics import recall_score\n",
    "\n",
    "print(f'Accuracy: {accuracy_score(y_test, y_pred)}')\n",
    "print(f'Recall: {recall_score(y_test, y_pred)}')"
   ]
  },
  {
   "cell_type": "code",
   "execution_count": 32,
   "metadata": {},
   "outputs": [
    {
     "name": "stdout",
     "output_type": "stream",
     "text": [
      "Logistic Regression model saved as lgr_classifier_model.pkl\n"
     ]
    }
   ],
   "source": [
    "import pickle\n",
    "pickle.dump(clf, open('lgr_classifier_model.pkl', 'wb'))\n",
    "print('Logistic Regression model saved as lgr_classifier_model.pkl')"
   ]
  },
  {
   "cell_type": "markdown",
   "metadata": {},
   "source": [
    "## SVM (Support Vector Machine)"
   ]
  },
  {
   "cell_type": "code",
   "execution_count": 33,
   "metadata": {},
   "outputs": [
    {
     "data": {
      "text/plain": [
       "SVC(gamma=0.01, kernel='poly')"
      ]
     },
     "execution_count": 33,
     "metadata": {},
     "output_type": "execute_result"
    }
   ],
   "source": [
    "from sklearn import svm\n",
    "from sklearn import preprocessing\n",
    "\n",
    "# Training set et test set\n",
    "X_train, X_test, y_train, y_test = train_test_split(X, y, test_size=0.33, random_state=42)\n",
    "\n",
    "# Centrer-réduire les features\n",
    "scaler = preprocessing.StandardScaler().fit(X_train)\n",
    "X_train_scaled = scaler.transform(X_train)\n",
    "X_test_scaled = scaler.transform(X_test)\n",
    "\n",
    "# Oversampling\n",
    "oversample = RandomOverSampler(sampling_strategy='minority')\n",
    "X_train_over, y_train_over = oversample.fit_resample(X_train_scaled, y_train)\n",
    "\n",
    "# Définition du modèle en entraînement\n",
    "model_svm = svm.SVC(gamma=0.01, kernel='poly')\n",
    "model_svm.fit(X_train_over, y_train_over)"
   ]
  },
  {
   "cell_type": "code",
   "execution_count": 34,
   "metadata": {},
   "outputs": [
    {
     "data": {
      "text/html": [
       "<div>\n",
       "<style scoped>\n",
       "    .dataframe tbody tr th:only-of-type {\n",
       "        vertical-align: middle;\n",
       "    }\n",
       "\n",
       "    .dataframe tbody tr th {\n",
       "        vertical-align: top;\n",
       "    }\n",
       "\n",
       "    .dataframe thead th {\n",
       "        text-align: right;\n",
       "    }\n",
       "</style>\n",
       "<table border=\"1\" class=\"dataframe\">\n",
       "  <thead>\n",
       "    <tr style=\"text-align: right;\">\n",
       "      <th>Classe prédite</th>\n",
       "      <th>0</th>\n",
       "      <th>1</th>\n",
       "    </tr>\n",
       "    <tr>\n",
       "      <th>Classe réelle</th>\n",
       "      <th></th>\n",
       "      <th></th>\n",
       "    </tr>\n",
       "  </thead>\n",
       "  <tbody>\n",
       "    <tr>\n",
       "      <th>0</th>\n",
       "      <td>438</td>\n",
       "      <td>18</td>\n",
       "    </tr>\n",
       "    <tr>\n",
       "      <th>1</th>\n",
       "      <td>16</td>\n",
       "      <td>5</td>\n",
       "    </tr>\n",
       "  </tbody>\n",
       "</table>\n",
       "</div>"
      ],
      "text/plain": [
       "Classe prédite    0   1\n",
       "Classe réelle          \n",
       "0               438  18\n",
       "1                16   5"
      ]
     },
     "execution_count": 34,
     "metadata": {},
     "output_type": "execute_result"
    }
   ],
   "source": [
    "# Prédiction\n",
    "y_pred = model_svm.predict(X_test_scaled)\n",
    "confusion_matrix = pd.crosstab(y_test, y_pred, rownames =['Classe réelle'], colnames=['Classe prédite'])\n",
    "confusion_matrix"
   ]
  },
  {
   "cell_type": "code",
   "execution_count": 35,
   "metadata": {},
   "outputs": [
    {
     "name": "stdout",
     "output_type": "stream",
     "text": [
      "Accuracy: 0.9287211740041929\n",
      "Recall: 0.23809523809523808\n"
     ]
    }
   ],
   "source": [
    "from sklearn.metrics import accuracy_score\n",
    "from sklearn.metrics import recall_score\n",
    "\n",
    "print(f'Accuracy: {accuracy_score(y_test, y_pred)}')\n",
    "print(f'Recall: {recall_score(y_test, y_pred)}')"
   ]
  },
  {
   "cell_type": "code",
   "execution_count": null,
   "metadata": {},
   "outputs": [],
   "source": []
  }
 ],
 "metadata": {
  "kernelspec": {
   "display_name": "Python 3 (ipykernel)",
   "language": "python",
   "name": "python3"
  },
  "language_info": {
   "codemirror_mode": {
    "name": "ipython",
    "version": 3
   },
   "file_extension": ".py",
   "mimetype": "text/x-python",
   "name": "python",
   "nbconvert_exporter": "python",
   "pygments_lexer": "ipython3",
   "version": "3.9.7"
  }
 },
 "nbformat": 4,
 "nbformat_minor": 4
}
